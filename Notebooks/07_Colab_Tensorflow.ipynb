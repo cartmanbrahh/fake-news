{
 "cells": [
  {
   "cell_type": "markdown",
   "metadata": {
    "id": "8fhGjpo65bU5"
   },
   "source": [
    "# Fake News Detection  | Tensorflow | Google Colab\n",
    "\n",
    "## Big Data\n",
    "### M2, Statistics & Econometrics, TSE\n",
    "\n",
    "The goal of this term project is to classify a news as fake news on a Kaggle dataset. This notebook uses deep learning methods to predict the fake news. We construct a deep learning - recurrent neural network using LSTM to predict the same. The latter solves the vanishing gradient problem so that it can capture longer-term dependencies. \n",
    "The notebook contains : \n",
    "- Text mining : preprocessing \n",
    "    - Removing spaces\n",
    "    - Removing punctuations\n",
    "    - Removing stop words\n",
    "\n",
    "- One hot encoding of the tokenized vocabulary\n",
    "- Padding\n",
    "- Building the Recurrent Neural Network  with layers : \n",
    "    - LSTM\n",
    "    - Relu \n",
    "    - Sigmoid\n",
    "\n",
    "- Checking for overfitting\n",
    "- Hyper parameter tuning\n",
    "    - Learning rate\n",
    "    - Units of the dense layer\n",
    "\n",
    "Here again we shall be splitting the training set to obtain a test set to evaluate our predictions given we do not have the final labels for the original test set given by Kaggle.\n",
    "\n",
    "**Kernel : Python 3**"
   ]
  },
  {
   "cell_type": "markdown",
   "metadata": {},
   "source": [
    "## I. Loading the prerequisites & data"
   ]
  },
  {
   "cell_type": "code",
   "execution_count": null,
   "metadata": {
    "id": "MT4P_HV5Swxx"
   },
   "outputs": [],
   "source": [
    "pip install -q -U keras-tuner"
   ]
  },
  {
   "cell_type": "code",
   "execution_count": 1,
   "metadata": {
    "colab": {
     "base_uri": "https://localhost:8080/"
    },
    "id": "nwpAc3Sa5bU7",
    "outputId": "8a7b4752-5e0d-4f48-a5db-2c1012feb402"
   },
   "outputs": [
    {
     "name": "stderr",
     "output_type": "stream",
     "text": [
      "[nltk_data] Downloading package stopwords to\n",
      "[nltk_data]     C:\\Users\\ankit\\AppData\\Roaming\\nltk_data...\n",
      "[nltk_data]   Package stopwords is already up-to-date!\n",
      "[nltk_data] Downloading package punkt to\n",
      "[nltk_data]     C:\\Users\\ankit\\AppData\\Roaming\\nltk_data...\n",
      "[nltk_data]   Package punkt is already up-to-date!\n"
     ]
    },
    {
     "ename": "ModuleNotFoundError",
     "evalue": "No module named 'kerastuner'",
     "output_type": "error",
     "traceback": [
      "\u001b[1;31m---------------------------------------------------------------------------\u001b[0m",
      "\u001b[1;31mModuleNotFoundError\u001b[0m                       Traceback (most recent call last)",
      "\u001b[1;32m<ipython-input-1-ef24ec1d9d27>\u001b[0m in \u001b[0;36m<module>\u001b[1;34m\u001b[0m\n\u001b[0;32m     40\u001b[0m \u001b[1;32mfrom\u001b[0m \u001b[0mtensorflow\u001b[0m\u001b[1;33m.\u001b[0m\u001b[0mkeras\u001b[0m\u001b[1;33m.\u001b[0m\u001b[0mpreprocessing\u001b[0m\u001b[1;33m.\u001b[0m\u001b[0mtext\u001b[0m \u001b[1;32mimport\u001b[0m \u001b[0mone_hot\u001b[0m\u001b[1;33m\u001b[0m\u001b[1;33m\u001b[0m\u001b[0m\n\u001b[0;32m     41\u001b[0m \u001b[1;33m\u001b[0m\u001b[0m\n\u001b[1;32m---> 42\u001b[1;33m \u001b[1;32mimport\u001b[0m \u001b[0mkerastuner\u001b[0m \u001b[1;32mas\u001b[0m \u001b[0mkt\u001b[0m\u001b[1;33m\u001b[0m\u001b[1;33m\u001b[0m\u001b[0m\n\u001b[0m",
      "\u001b[1;31mModuleNotFoundError\u001b[0m: No module named 'kerastuner'"
     ]
    }
   ],
   "source": [
    "# Universal\n",
    "import re\n",
    "import string\n",
    "import matplotlib.pyplot as plt\n",
    "%matplotlib inline\n",
    "import seaborn as sns\n",
    "import pandas as pd\n",
    "import numpy as np\n",
    "import math\n",
    "from collections import Counter\n",
    "from datetime import datetime\n",
    "import gc \n",
    "\n",
    "# Text mining\n",
    "import nltk\n",
    "from nltk import Text\n",
    "from nltk import tokenize\n",
    "from nltk.tokenize import word_tokenize  \n",
    "from nltk.tokenize import sent_tokenize \n",
    "from nltk.corpus import stopwords\n",
    "from nltk.stem import PorterStemmer\n",
    "nltk.download('stopwords')\n",
    "nltk.download('punkt')\n",
    "# Term Document Matrix\n",
    "from sklearn.feature_extraction.text import TfidfVectorizer\n",
    "from sklearn.feature_extraction.text import TfidfVectorizer, CountVectorizer\n",
    "from sklearn.decomposition import NMF, LatentDirichletAllocation\n",
    "\n",
    "# Sklearn\n",
    "from sklearn.model_selection import train_test_split\n",
    "from sklearn.metrics import confusion_matrix\n",
    "from sklearn.metrics import accuracy_score\n",
    "\n",
    "# Deep learning\n",
    "import tensorflow as tf\n",
    "from tensorflow import keras\n",
    "from tensorflow.keras import layers\n",
    "from tensorflow.keras.layers import Embedding,LSTM,Dense,Dropout, Bidirectional\n",
    "from tensorflow.keras.preprocessing.sequence import pad_sequences\n",
    "from tensorflow.keras.models import Sequential\n",
    "from tensorflow.keras.preprocessing.text import one_hot\n",
    "\n",
    "import kerastuner as kt\n"
   ]
  },
  {
   "cell_type": "code",
   "execution_count": 2,
   "metadata": {
    "colab": {
     "base_uri": "https://localhost:8080/"
    },
    "id": "CimltXAR5bU9",
    "outputId": "702e9d6c-d56f-483d-e4bd-8acf68ac131f"
   },
   "outputs": [
    {
     "name": "stdout",
     "output_type": "stream",
     "text": [
      "(20800, 5)\n"
     ]
    }
   ],
   "source": [
    "train_df = pd.read_csv(\"train.csv\") \n",
    "print(train_df.shape)"
   ]
  },
  {
   "cell_type": "code",
   "execution_count": 4,
   "metadata": {
    "colab": {
     "base_uri": "https://localhost:8080/",
     "height": 289
    },
    "id": "aeoHqyuh5bU_",
    "outputId": "539a9b06-bf28-4dd8-f531-e36db6f95bfb"
   },
   "outputs": [
    {
     "data": {
      "text/html": [
       "<div>\n",
       "<style scoped>\n",
       "    .dataframe tbody tr th:only-of-type {\n",
       "        vertical-align: middle;\n",
       "    }\n",
       "\n",
       "    .dataframe tbody tr th {\n",
       "        vertical-align: top;\n",
       "    }\n",
       "\n",
       "    .dataframe thead th {\n",
       "        text-align: right;\n",
       "    }\n",
       "</style>\n",
       "<table border=\"1\" class=\"dataframe\">\n",
       "  <thead>\n",
       "    <tr style=\"text-align: right;\">\n",
       "      <th></th>\n",
       "      <th>id</th>\n",
       "      <th>title</th>\n",
       "      <th>author</th>\n",
       "      <th>text</th>\n",
       "      <th>label</th>\n",
       "    </tr>\n",
       "  </thead>\n",
       "  <tbody>\n",
       "    <tr>\n",
       "      <th>0</th>\n",
       "      <td>0</td>\n",
       "      <td>House Dem Aide: We Didn’t Even See Comey’s Let...</td>\n",
       "      <td>Darrell Lucus</td>\n",
       "      <td>House Dem Aide: We Didn’t Even See Comey’s Let...</td>\n",
       "      <td>1</td>\n",
       "    </tr>\n",
       "    <tr>\n",
       "      <th>1</th>\n",
       "      <td>1</td>\n",
       "      <td>FLYNN: Hillary Clinton, Big Woman on Campus - ...</td>\n",
       "      <td>Daniel J. Flynn</td>\n",
       "      <td>Ever get the feeling your life circles the rou...</td>\n",
       "      <td>0</td>\n",
       "    </tr>\n",
       "    <tr>\n",
       "      <th>2</th>\n",
       "      <td>2</td>\n",
       "      <td>Why the Truth Might Get You Fired</td>\n",
       "      <td>Consortiumnews.com</td>\n",
       "      <td>Why the Truth Might Get You Fired October 29, ...</td>\n",
       "      <td>1</td>\n",
       "    </tr>\n",
       "    <tr>\n",
       "      <th>3</th>\n",
       "      <td>3</td>\n",
       "      <td>15 Civilians Killed In Single US Airstrike Hav...</td>\n",
       "      <td>Jessica Purkiss</td>\n",
       "      <td>Videos 15 Civilians Killed In Single US Airstr...</td>\n",
       "      <td>1</td>\n",
       "    </tr>\n",
       "    <tr>\n",
       "      <th>4</th>\n",
       "      <td>4</td>\n",
       "      <td>Iranian woman jailed for fictional unpublished...</td>\n",
       "      <td>Howard Portnoy</td>\n",
       "      <td>Print \\nAn Iranian woman has been sentenced to...</td>\n",
       "      <td>1</td>\n",
       "    </tr>\n",
       "  </tbody>\n",
       "</table>\n",
       "</div>"
      ],
      "text/plain": [
       "   id  ... label\n",
       "0   0  ...     1\n",
       "1   1  ...     0\n",
       "2   2  ...     1\n",
       "3   3  ...     1\n",
       "4   4  ...     1\n",
       "\n",
       "[5 rows x 5 columns]"
      ]
     },
     "execution_count": 4,
     "metadata": {
      "tags": []
     },
     "output_type": "execute_result"
    }
   ],
   "source": [
    "# Preview the first 5 lines of the train data \n",
    "train_df.head()"
   ]
  },
  {
   "cell_type": "code",
   "execution_count": 5,
   "metadata": {
    "colab": {
     "base_uri": "https://localhost:8080/",
     "height": 271
    },
    "id": "n6py-Dv-5bU_",
    "outputId": "b79a3366-0c50-49b6-a746-d7475d0e16e8"
   },
   "outputs": [
    {
     "data": {
      "text/html": [
       "<div>\n",
       "<style scoped>\n",
       "    .dataframe tbody tr th:only-of-type {\n",
       "        vertical-align: middle;\n",
       "    }\n",
       "\n",
       "    .dataframe tbody tr th {\n",
       "        vertical-align: top;\n",
       "    }\n",
       "\n",
       "    .dataframe thead th {\n",
       "        text-align: right;\n",
       "    }\n",
       "</style>\n",
       "<table border=\"1\" class=\"dataframe\">\n",
       "  <thead>\n",
       "    <tr style=\"text-align: right;\">\n",
       "      <th></th>\n",
       "      <th>id</th>\n",
       "      <th>title</th>\n",
       "      <th>author</th>\n",
       "      <th>text</th>\n",
       "    </tr>\n",
       "  </thead>\n",
       "  <tbody>\n",
       "    <tr>\n",
       "      <th>0</th>\n",
       "      <td>20800</td>\n",
       "      <td>Specter of Trump Loosens Tongues, if Not Purse...</td>\n",
       "      <td>David Streitfeld</td>\n",
       "      <td>PALO ALTO, Calif.  —   After years of scorning...</td>\n",
       "    </tr>\n",
       "    <tr>\n",
       "      <th>1</th>\n",
       "      <td>20801</td>\n",
       "      <td>Russian warships ready to strike terrorists ne...</td>\n",
       "      <td>NaN</td>\n",
       "      <td>Russian warships ready to strike terrorists ne...</td>\n",
       "    </tr>\n",
       "    <tr>\n",
       "      <th>2</th>\n",
       "      <td>20802</td>\n",
       "      <td>#NoDAPL: Native American Leaders Vow to Stay A...</td>\n",
       "      <td>Common Dreams</td>\n",
       "      <td>Videos #NoDAPL: Native American Leaders Vow to...</td>\n",
       "    </tr>\n",
       "    <tr>\n",
       "      <th>3</th>\n",
       "      <td>20803</td>\n",
       "      <td>Tim Tebow Will Attempt Another Comeback, This ...</td>\n",
       "      <td>Daniel Victor</td>\n",
       "      <td>If at first you don’t succeed, try a different...</td>\n",
       "    </tr>\n",
       "    <tr>\n",
       "      <th>4</th>\n",
       "      <td>20804</td>\n",
       "      <td>Keiser Report: Meme Wars (E995)</td>\n",
       "      <td>Truth Broadcast Network</td>\n",
       "      <td>42 mins ago 1 Views 0 Comments 0 Likes 'For th...</td>\n",
       "    </tr>\n",
       "  </tbody>\n",
       "</table>\n",
       "</div>"
      ],
      "text/plain": [
       "      id  ...                                               text\n",
       "0  20800  ...  PALO ALTO, Calif.  —   After years of scorning...\n",
       "1  20801  ...  Russian warships ready to strike terrorists ne...\n",
       "2  20802  ...  Videos #NoDAPL: Native American Leaders Vow to...\n",
       "3  20803  ...  If at first you don’t succeed, try a different...\n",
       "4  20804  ...  42 mins ago 1 Views 0 Comments 0 Likes 'For th...\n",
       "\n",
       "[5 rows x 4 columns]"
      ]
     },
     "execution_count": 5,
     "metadata": {
      "tags": []
     },
     "output_type": "execute_result"
    }
   ],
   "source": [
    "# # Preview the first 5 lines of the test data \n",
    "# test_df.head()"
   ]
  },
  {
   "cell_type": "markdown",
   "metadata": {
    "id": "vxyKTQUm5bU_"
   },
   "source": [
    "## II. Some preliminary cleaning !"
   ]
  },
  {
   "cell_type": "code",
   "execution_count": 6,
   "metadata": {
    "colab": {
     "base_uri": "https://localhost:8080/",
     "height": 524
    },
    "id": "q4OqZOz15bVA",
    "outputId": "f9b69976-10d1-46de-9ee6-9d5859f7755a"
   },
   "outputs": [
    {
     "data": {
      "image/png": "[encoded data removed]",
      "text/plain": [
       "<Figure size 720x576 with 1 Axes>"
      ]
     },
     "metadata": {
      "needs_background": "light",
      "tags": []
     },
     "output_type": "display_data"
    }
   ],
   "source": [
    "# Inspored by : Twitter Sentiment analysis, Kurtis Pykes. \n",
    "# github : https://github.com/kurtispykes/twitter-sentiment-analysis/blob/master/notebook/03_kpy_data_exploration.ipynb\n",
    "\n",
    "\n",
    "# Visualising the missing values % \n",
    "missing_values = dict(zip([col for col in train_df.columns if col != \"labels\"],\n",
    "                          [round(100*train_df[col].isnull().sum()/len(train_df), 2) for col in train_df.columns\n",
    "                           if col != \"labels\"]))\n",
    "missing_values_df = pd.DataFrame(missing_values, index=[0])\n",
    "missing_values_df = missing_values_df.melt(var_name= \"columns\", value_name= \"percentage\")\n",
    "\n",
    "# plotting missing values chart\n",
    "plt.figure(figsize=(10, 8))\n",
    "sns.set(style=\"whitegrid\", color_codes=True)\n",
    "seaborn_plot = sns.barplot(x=\"columns\", y=\"percentage\", data=missing_values_df)\n",
    "for p in seaborn_plot.patches:\n",
    "    seaborn_plot.annotate(format(p.get_height(), '.2f'), (p.get_x() + p.get_width() / 2., p.get_height()), ha = 'center',\n",
    "                   va = 'center', xytext = (0, 9), textcoords = 'offset points')\n",
    "plt.title(\"% of Missing Values in Columns\", size=20, weight=\"bold\")\n",
    "plt.xlabel(\"Columns\", size=14, weight=\"bold\")\n",
    "plt.ylabel(\"%\", size=14, weight=\"bold\")\n",
    "plt.show()"
   ]
  },
  {
   "cell_type": "code",
   "execution_count": 7,
   "metadata": {
    "colab": {
     "base_uri": "https://localhost:8080/",
     "height": 524
    },
    "id": "2D7GxDfk5bVB",
    "outputId": "52fc5273-6b18-4f40-d4c1-811234429350"
   },
   "outputs": [
    {
     "data": {
      "image/png": "[encoded data removed]",
      "text/plain": [
       "<Figure size 720x576 with 1 Axes>"
      ]
     },
     "metadata": {
      "tags": []
     },
     "output_type": "display_data"
    }
   ],
   "source": [
    "# Commenting this out as it is for the original kaggle test set \n",
    "# # Doing the same for the test set\n",
    "# # Inspired by : Twitter Sentiment analysis, Kurtis Pykes. \n",
    "# # github : https://github.com/kurtispykes/twitter-sentiment-analysis/blob/master/notebook/03_kpy_data_exploration.ipynb\n",
    "\n",
    "\n",
    "# # Visualising the missing values % \n",
    "# missing_values = dict(zip([col for col in test_df.columns if col != \"labels\"],\n",
    "#                           [round(100*test_df[col].isnull().sum()/len(test_df), 2) for col in test_df.columns\n",
    "#                            if col != \"labels\"]))\n",
    "# missing_values_df = pd.DataFrame(missing_values, index=[0])\n",
    "# missing_values_df = missing_values_df.melt(var_name= \"columns\", value_name= \"percentage\")\n",
    "\n",
    "# # plotting missing values chart\n",
    "# plt.figure(figsize=(10, 8))\n",
    "# sns.set(style=\"whitegrid\", color_codes=True)\n",
    "# seaborn_plot = sns.barplot(x=\"columns\", y=\"percentage\", data=missing_values_df)\n",
    "# for p in seaborn_plot.patches:\n",
    "#     seaborn_plot.annotate(format(p.get_height(), '.2f'), (p.get_x() + p.get_width() / 2., p.get_height()), ha = 'center',\n",
    "#                    va = 'center', xytext = (0, 9), textcoords = 'offset points')\n",
    "# plt.title(\"% of Missing Values in Columns\", size=20, weight=\"bold\")\n",
    "# plt.xlabel(\"Columns\", size=14, weight=\"bold\")\n",
    "# plt.ylabel(\"%\", size=14, weight=\"bold\")\n",
    "# plt.show()"
   ]
  },
  {
   "cell_type": "markdown",
   "metadata": {
    "id": "Vn2sEy1y5bVB"
   },
   "source": [
    "### II.A. Dealing with NAs"
   ]
  },
  {
   "cell_type": "code",
   "execution_count": 6,
   "metadata": {
    "id": "iFx7_M_T5bVC"
   },
   "outputs": [],
   "source": [
    "train_df.fillna(\"missing\", inplace=True)\n",
    "# test_df.fillna(\"missing\", inplace=True)"
   ]
  },
  {
   "cell_type": "markdown",
   "metadata": {
    "id": "6sDvqfna5bVD"
   },
   "source": [
    "## III. Text Mining : Preprocessing "
   ]
  },
  {
   "cell_type": "markdown",
   "metadata": {
    "id": "fmaTfjRv5bVD"
   },
   "source": [
    "Our corpus is massive and to reduce the time for pre-processing, we ought to remove punctuations, special characters and single letters. The idea is therefore to pre-process the data which will then be fed to the vectorizer function. \n",
    "The pre-processing shall include the following steps \n",
    "\n",
    "- Cleaning the text : converting to lower text, removing the punctuations, URLS, special characters etc. \n",
    "- Tokenization\n",
    "- Removing the stop words\n",
    "- Stemming :The process of extracting the root of the word.\n",
    "\n",
    "We shall first concatenate the text, title and author columns and tokenize that."
   ]
  },
  {
   "cell_type": "code",
   "execution_count": 7,
   "metadata": {
    "id": "929hzjpi5bVE"
   },
   "outputs": [],
   "source": [
    "train_df['combined_title_text'] = train_df['title'].map(str) + ' ' + train_df['text'].map(str)\n",
    "train_df['combined_title_text'] = train_df['combined_title_text'].astype(\"str\")"
   ]
  },
  {
   "cell_type": "code",
   "execution_count": 9,
   "metadata": {
    "colab": {
     "base_uri": "https://localhost:8080/"
    },
    "id": "gwmoDrdA5bVE",
    "outputId": "2c5430aa-02a8-4f39-a92e-c05c82e5b6c5"
   },
   "outputs": [
    {
     "name": "stdout",
     "output_type": "stream",
     "text": [
      "['i', 'me', 'my', 'myself', 'we', 'our', 'ours', 'ourselves', 'you', \"you're\", \"you've\", \"you'll\", \"you'd\", 'your', 'yours', 'yourself', 'yourselves', 'he', 'him', 'his', 'himself', 'she', \"she's\", 'her', 'hers', 'herself', 'it', \"it's\", 'its', 'itself', 'they', 'them', 'their', 'theirs', 'themselves', 'what', 'which', 'who', 'whom', 'this', 'that', \"that'll\", 'these', 'those', 'am', 'is', 'are', 'was', 'were', 'be', 'been', 'being', 'have', 'has', 'had', 'having', 'do', 'does', 'did', 'doing', 'a', 'an', 'the', 'and', 'but', 'if', 'or', 'because', 'as', 'until', 'while', 'of', 'at', 'by', 'for', 'with', 'about', 'against', 'between', 'into', 'through', 'during', 'before', 'after', 'above', 'below', 'to', 'from', 'up', 'down', 'in', 'out', 'on', 'off', 'over', 'under', 'again', 'further', 'then', 'once', 'here', 'there', 'when', 'where', 'why', 'how', 'all', 'any', 'both', 'each', 'few', 'more', 'most', 'other', 'some', 'such', 'no', 'nor', 'not', 'only', 'own', 'same', 'so', 'than', 'too', 'very', 's', 't', 'can', 'will', 'just', 'don', \"don't\", 'should', \"should've\", 'now', 'd', 'll', 'm', 'o', 're', 've', 'y', 'ain', 'aren', \"aren't\", 'couldn', \"couldn't\", 'didn', \"didn't\", 'doesn', \"doesn't\", 'hadn', \"hadn't\", 'hasn', \"hasn't\", 'haven', \"haven't\", 'isn', \"isn't\", 'ma', 'mightn', \"mightn't\", 'mustn', \"mustn't\", 'needn', \"needn't\", 'shan', \"shan't\", 'shouldn', \"shouldn't\", 'wasn', \"wasn't\", 'weren', \"weren't\", 'won', \"won't\", 'wouldn', \"wouldn't\"]\n"
     ]
    }
   ],
   "source": [
    "# Let us first remove the stop words\n",
    "stop_words = stopwords.words('english')\n",
    "print(stop_words)"
   ]
  },
  {
   "cell_type": "markdown",
   "metadata": {
    "id": "jL14lLza4J_L"
   },
   "source": [
    "Here we define a function to \n",
    "- change to lower case\n",
    "- remove URLs\n",
    "- remove special characters\n",
    "- punctuations\n",
    "- single characters\n",
    "\n",
    "We then tokenize the corpus. Thereon we stem (taking only the root of the word) the words. Lemmatizing takes a lot more time and there is not a HUGE difference in prediction accuracy (I have tried it myself, using it for other projects) - the time cost outweighs the benefits. "
   ]
  },
  {
   "cell_type": "code",
   "execution_count": 10,
   "metadata": {
    "id": "c0ObL2nU5bVE"
   },
   "outputs": [],
   "source": [
    "def preprocess_text(text):\n",
    "    # Converting to lower case\n",
    "    text.lower()\n",
    "    # Remove urls\n",
    "    text = re.sub(r\"http\\S+|www\\S+|https\\S+\", '', text, flags=re.MULTILINE)\n",
    "    # Remove user @ references and '#' from text\n",
    "    text = re.sub(r'\\@\\w+|\\#','', text)\n",
    "    # Remove punctuations\n",
    "    text = text.translate(str.maketrans(\"\", \"\", string.punctuation))\n",
    "    # Remove all single characters\n",
    "    text = re.sub(r'\\s+[a-zA-Z]\\s+', ' ', text)\n",
    "    # Remove single characters from the start\n",
    "    text = re.sub(r'\\^[a-zA-Z]\\s+', ' ', text)\n",
    "    # Remove characters of 3 characters\n",
    "    text = re.sub(r'\\b\\w{1,3}\\b', '', text)\n",
    "    # Remove other special chars\n",
    "    text = re.sub(r'[^A-Za-z0-9]+', ' ', text)\n",
    "    # Tokenizing the corpus\n",
    "    text_tokens = word_tokenize(text)\n",
    "    # Remove stopwords\n",
    "    filtered_words = [w for w in text_tokens if not w in stop_words]\n",
    "    # Stemming the corpus\n",
    "    ps = PorterStemmer()\n",
    "    #  lemmatizer = WordNetLemmatizer() \n",
    "    stemmed_words = [ps.stem(w) for w in filtered_words]\n",
    "    \n",
    "    return \" \".join(stemmed_words)"
   ]
  },
  {
   "cell_type": "markdown",
   "metadata": {
    "id": "h_YXw21hlXCw"
   },
   "source": [
    "### III.A. Obtaining the vocabulary"
   ]
  },
  {
   "cell_type": "code",
   "execution_count": 11,
   "metadata": {
    "id": "CzU_3vsI5bVE"
   },
   "outputs": [],
   "source": [
    "train_preprocessed =train_df['combined_title_text'].apply(preprocess_text)\n",
    "# test_preprocessed = test_df['combined_title_text'].apply(preprocess_text)"
   ]
  },
  {
   "cell_type": "markdown",
   "metadata": {
    "id": "L4UhGAfUlXCx"
   },
   "source": [
    "### III.B. Word Embeddings"
   ]
  },
  {
   "cell_type": "markdown",
   "metadata": {
    "id": "oGNFsCNJ3UNf"
   },
   "source": [
    "The Embedding layer expects the words to be in numeric form. Therefore, we need to convert the sentences in our corpus to numbers. One way to convert text to numbers is by using the one_hot function from the keras.preprocessing.text library. The function takes sentence and the total length of the vocabulary and returns the sentence in numeric form."
   ]
  },
  {
   "cell_type": "code",
   "execution_count": 13,
   "metadata": {
    "colab": {
     "base_uri": "https://localhost:8080/"
    },
    "id": "VQVdOrmG2C0R",
    "outputId": "33e68e10-96c0-4200-a324-7e60858e2972"
   },
   "outputs": [
    {
     "name": "stdout",
     "output_type": "stream",
     "text": [
      "[230, 848, 896, 260, 887, 928, 657, 907, 671, 599, 850, 827, 127, 4, 569, 247, 263, 544, 657, 907, 680, 346, 684, 990, 196, 848, 61, 724, 626, 121, 697, 505, 377, 104, 458, 818, 708, 387, 318, 480, 720, 550, 528, 631, 969, 16, 745, 300, 279, 724, 794, 87, 579, 848, 238, 924, 176, 762, 52, 112, 856, 497, 279, 724, 813, 627, 907, 667, 488, 848, 57, 349, 881, 393, 786, 95, 798, 404, 993, 431, 951, 71, 192, 50, 961, 964, 892, 720, 671, 599, 711, 500, 798, 300, 34, 974, 848, 947, 469, 974, 515, 14, 611, 477, 34, 696, 974, 682, 465, 964, 521, 24, 280, 127, 242, 263, 877, 223, 264, 657, 907, 112, 685, 871, 254, 687, 104, 635, 153, 65, 701, 656, 284, 374, 234, 807, 725, 263, 260, 361, 10, 896, 917, 800, 877, 982, 787, 932, 584, 192, 24, 724, 832, 355, 498, 512, 635, 735, 869, 500, 735, 185, 584, 995, 223, 964, 616, 892, 848, 842, 412, 865, 766, 842, 656, 657, 907, 178, 666, 874, 144, 61, 582, 656, 17, 423, 104, 219, 354, 892, 643, 277, 94, 255, 500, 834, 210, 685, 584, 787, 819, 398, 693, 884, 818, 657, 907, 497, 720, 469, 802, 568, 52, 727, 400, 52, 135, 611, 590, 178, 19, 301, 766, 56, 34, 724, 626, 386, 926, 253, 277, 387, 194, 926, 87, 990, 434, 83, 34, 701, 480, 284, 813, 797, 95, 93, 279, 979, 762, 994, 150, 657, 907, 525, 846, 263, 797, 434, 104, 300, 34, 633, 263, 786, 723, 822, 660, 884, 742, 666, 874, 797, 931, 754, 189, 87, 924, 277, 34, 644, 423, 848, 760, 686, 143, 834, 599, 488, 332, 771, 848, 485, 87, 395, 48, 797, 74, 277, 625, 191, 238, 857, 477, 865, 476, 745, 948, 611, 300, 325, 2, 238, 64, 797, 327, 756, 863, 94, 618, 353, 660, 548, 803, 469, 633, 83, 34, 238, 857, 27, 797, 194, 724, 728, 242, 234, 724, 412, 599, 335, 529, 397, 480, 720, 550, 179, 465, 691, 404, 477, 202, 202, 787, 314, 968, 766, 65, 541, 951, 599, 495, 605, 82, 694, 54, 856, 108, 303, 263, 787, 848, 238, 990, 924, 697, 411, 201, 201, 985, 277, 272, 766, 87, 113, 633, 787, 813, 202, 477, 865, 476, 745, 998, 797, 926, 145, 626, 994, 834, 221, 766, 974, 104, 300, 974, 694, 263, 604, 694, 991, 787, 95, 411, 575, 410, 54, 883, 404, 50, 787, 300, 34, 113, 616, 238, 656, 951, 599, 906, 303, 938, 968, 694, 353, 485, 454, 104, 766, 625, 7, 848, 724, 626, 400, 367, 990, 434, 4, 17, 678, 657, 907, 173, 519, 412, 730, 195, 724, 434, 217, 14, 616, 217, 730, 195, 272, 712, 886, 990, 434, 676, 345, 52, 802, 480, 284, 483, 921, 766, 327, 182, 657, 907, 487, 725, 487, 660, 402, 797, 439, 442, 339, 838, 699, 14, 83, 556, 986, 92, 670, 685, 94, 608, 170, 766, 57, 353, 487, 848, 57, 756, 978, 469, 657, 907, 549, 848, 323, 488, 57, 487, 527, 329, 968, 874, 766, 480, 720, 550, 760, 395, 480, 387, 390, 224, 157, 115, 222, 325, 914, 657, 907, 263, 242, 996, 367, 238, 724, 626, 944, 728, 544, 545, 785, 724, 249, 646, 142, 548, 646, 694, 584, 787, 813, 797, 654, 999, 332, 779, 683, 50, 917, 309, 263, 63, 53, 620, 95, 263, 195, 155, 249, 404, 126, 908, 598, 150, 23, 50, 802, 249, 277, 423, 18, 785, 781, 766, 977, 423, 951, 220, 787, 71, 598, 138, 534, 249, 249, 821, 627, 432, 703, 729, 866, 917, 272, 924, 263, 732, 860, 117, 621, 608, 432, 422, 685, 599, 341, 908, 598, 126, 400, 1, 249, 614, 541, 70, 50, 353, 487, 646, 635, 366, 133, 787, 79, 141, 480, 284, 977, 57, 191, 724, 150, 300, 917, 238, 627, 279, 550, 131, 61, 48, 841, 412, 570, 220, 814, 635, 619, 568, 480, 550, 698, 19, 683, 781, 131, 745, 300, 685, 683, 736, 57, 428, 703, 171, 478, 823, 323, 353, 485, 642, 46, 656, 642, 161, 548, 727, 787, 502, 480, 284, 966, 40, 515, 703, 119, 360, 696, 93]\n"
     ]
    }
   ],
   "source": [
    "# We want the maximum words in our vocabulary to be 1000, or 1000 features at max.\n",
    "vocab_length = 1000\n",
    "embedded_sentences_train = [one_hot(sent, vocab_length) for sent in train_preprocessed]\n",
    "# embedded_sentences_test = [one_hot(sent, vocab_length) for sent in test_preprocessed]\n",
    "print(embedded_sentences_train[0] )"
   ]
  },
  {
   "cell_type": "markdown",
   "metadata": {
    "id": "tHcnLG3BB-3G"
   },
   "source": [
    "### III.C. Padding \n",
    "We take the maximum words to keep to be 50. The reason is that I do not want a largely sparse matrix which is inefficient in handling. I had initially taken it to be the largest word count of the sentences in the train set but the model would not work greatly, so after making some trial and errors (20,50, 100 and 1000) I saw that the model performed best for 50. In fact for larger dimensions (100), it would not work well - the accuracy would be quite bad, mainly because of how sparse the matrix would be. \n",
    "\n",
    "\n",
    "**Post-padding**\n",
    "From the tensorflow tutorial : We recommend using \"post\" padding when working with RNN layers (in order to be able to use the CuDNN implementation of the layers).\n",
    "Although we will not be seeing the CuDNN implementation, we keep it anyway"
   ]
  },
  {
   "cell_type": "code",
   "execution_count": 118,
   "metadata": {
    "id": "OejatSjy17Zq"
   },
   "outputs": [],
   "source": [
    "word_count = lambda sentence: len(word_tokenize(sentence))\n",
    "longest_sentence = max(train_df.combined_title_text, key=word_count)\n",
    "length_long_sentence = len(word_tokenize(longest_sentence))\n",
    "print('the word count of the longest sentence in the train set is : {} '.format(length_long_sentence))\n",
    "\n",
    "padded_sentences_train = pad_sequences(embedded_sentences_train, 50  , padding='post')\n",
    "# padded_sentences_test = pad_sequences(embedded_sentences_test,  50 , padding='post')\n",
    "\n",
    "# print(padded_sentences)"
   ]
  },
  {
   "cell_type": "markdown",
   "metadata": {
    "id": "RwsXh8xnHMxe"
   },
   "source": [
    "## IV. Creating the RNN model  \n",
    "We will be using a LSTM model. This has been derived from most of the pre-existing works (the layers that have worked best) on text classification. The idea behind choosing LSTM is that it remembers only the important sequence of words and forgets the insignificant words which don’t add value to the prediction. We have also used a relu activation.  The last layer is a sigmoid as we have a classification problem. "
   ]
  },
  {
   "cell_type": "code",
   "execution_count": 149,
   "metadata": {
    "colab": {
     "base_uri": "https://localhost:8080/"
    },
    "id": "6FhITb-0CC1u",
    "outputId": "a7165e9d-0cdd-484f-d7b3-5a49564dbb33"
   },
   "outputs": [
    {
     "name": "stdout",
     "output_type": "stream",
     "text": [
      "Model: \"sequential_12\"\n",
      "_________________________________________________________________\n",
      "Layer (type)                 Output Shape              Param #   \n",
      "=================================================================\n",
      "embedding_11 (Embedding)     (None, 50, 50)            50000     \n",
      "_________________________________________________________________\n",
      "dropout_23 (Dropout)         (None, 50, 50)            0         \n",
      "_________________________________________________________________\n",
      "lstm_11 (LSTM)               (None, 100)               60400     \n",
      "_________________________________________________________________\n",
      "dropout_24 (Dropout)         (None, 100)               0         \n",
      "_________________________________________________________________\n",
      "dense_24 (Dense)             (None, 64)                6464      \n",
      "_________________________________________________________________\n",
      "dense_25 (Dense)             (None, 1)                 65        \n",
      "=================================================================\n",
      "Total params: 116,929\n",
      "Trainable params: 116,929\n",
      "Non-trainable params: 0\n",
      "_________________________________________________________________\n",
      "None\n"
     ]
    }
   ],
   "source": [
    "# The vocab length is 1000 \n",
    "# The dimension of the input vector is 50 as it is the number to which the sentences are padded\n",
    "\n",
    "embedding_vector_features=50\n",
    "model = Sequential()\n",
    "model.add(Embedding(vocab_length, embedding_vector_features, input_length=50))\n",
    "model.add(Dropout(0.3))\n",
    "model.add(LSTM(100))\n",
    "model.add(Dropout(0.3))\n",
    "model.add(Dense(64,activation='relu'))\n",
    "\n",
    "model.add(Dense(1,activation='sigmoid'))\n",
    "\n",
    "#Compiling the model\n",
    "model.compile(loss='binary_crossentropy', optimizer=keras.optimizers.Adam(learning_rate=1e-2),metrics=['accuracy'])\n",
    "print(model.summary())"
   ]
  },
  {
   "cell_type": "code",
   "execution_count": 150,
   "metadata": {
    "colab": {
     "base_uri": "https://localhost:8080/"
    },
    "id": "aA_K_SPlIF5f",
    "outputId": "11c28462-f8ad-47ad-93b5-3185888448fc"
   },
   "outputs": [
    {
     "data": {
      "text/plain": [
       "((20800, 50), (20800,))"
      ]
     },
     "execution_count": 150,
     "metadata": {
      "tags": []
     },
     "output_type": "execute_result"
    }
   ],
   "source": [
    "# Converting the X and y as array\n",
    "X_final=np.array(padded_sentences_train)\n",
    "y_final=train_df.label.values\n",
    "\n",
    "X_final.dtype\n",
    "#Check shape of X and y final\n",
    "X_final.shape,y_final.shape"
   ]
  },
  {
   "cell_type": "markdown",
   "metadata": {},
   "source": [
    "### IV.A. Running the Model "
   ]
  },
  {
   "cell_type": "code",
   "execution_count": 151,
   "metadata": {
    "colab": {
     "base_uri": "https://localhost:8080/"
    },
    "id": "B8KuPwP4CDBl",
    "outputId": "0fabe652-b81e-4468-bbad-db37e8a35869"
   },
   "outputs": [
    {
     "name": "stdout",
     "output_type": "stream",
     "text": [
      "Epoch 1/10\n",
      "260/260 [==============================] - 4s 9ms/step - loss: 0.5086 - accuracy: 0.7352 - val_loss: 0.4404 - val_accuracy: 0.8262\n",
      "Epoch 2/10\n",
      "260/260 [==============================] - 2s 7ms/step - loss: 0.3394 - accuracy: 0.8531 - val_loss: 0.3501 - val_accuracy: 0.8445\n",
      "Epoch 3/10\n",
      "260/260 [==============================] - 2s 7ms/step - loss: 0.2962 - accuracy: 0.8703 - val_loss: 0.3446 - val_accuracy: 0.8510\n",
      "Epoch 4/10\n",
      "260/260 [==============================] - 2s 7ms/step - loss: 0.2644 - accuracy: 0.8842 - val_loss: 0.3540 - val_accuracy: 0.8471\n",
      "Epoch 5/10\n",
      "260/260 [==============================] - 2s 7ms/step - loss: 0.2401 - accuracy: 0.8954 - val_loss: 0.3746 - val_accuracy: 0.8510\n",
      "Epoch 6/10\n",
      "260/260 [==============================] - 2s 7ms/step - loss: 0.2285 - accuracy: 0.9019 - val_loss: 0.3768 - val_accuracy: 0.8478\n",
      "Epoch 7/10\n",
      "260/260 [==============================] - 2s 7ms/step - loss: 0.2001 - accuracy: 0.9159 - val_loss: 0.3790 - val_accuracy: 0.8510\n",
      "Epoch 8/10\n",
      "260/260 [==============================] - 2s 7ms/step - loss: 0.2044 - accuracy: 0.9131 - val_loss: 0.3746 - val_accuracy: 0.8493\n",
      "Epoch 9/10\n",
      "260/260 [==============================] - 2s 7ms/step - loss: 0.1931 - accuracy: 0.9188 - val_loss: 0.3691 - val_accuracy: 0.8529\n",
      "Epoch 10/10\n",
      "260/260 [==============================] - 2s 7ms/step - loss: 0.1928 - accuracy: 0.9187 - val_loss: 0.3820 - val_accuracy: 0.8541\n"
     ]
    }
   ],
   "source": [
    "# We split the train set into the training and validation data : because we do not have the true labels for the test set.\n",
    "# Train test split of the X and y final\n",
    "X_train, X_test, y_train, y_test = train_test_split(X_final, y_final, test_size=0.20, random_state=42)\n",
    "# Fitting with 10 epochs and 64 batch size\n",
    "hist_1 = model.fit(X_train,y_train,validation_data=(X_test,y_test),epochs=10,batch_size=64)"
   ]
  },
  {
   "cell_type": "code",
   "execution_count": 152,
   "metadata": {
    "id": "KWAjFECfLihj"
   },
   "outputs": [],
   "source": [
    "y_pred = (model.predict(X_test) > 0.5).astype(\"int32\")"
   ]
  },
  {
   "cell_type": "code",
   "execution_count": 153,
   "metadata": {
    "colab": {
     "base_uri": "https://localhost:8080/"
    },
    "id": "K-a-vqaRLXf7",
    "outputId": "d71572d1-a21d-4369-9297-3ca412163479"
   },
   "outputs": [
    {
     "data": {
      "text/plain": [
       "array([[1883,  249],\n",
       "       [ 358, 1670]])"
      ]
     },
     "execution_count": 153,
     "metadata": {
      "tags": []
     },
     "output_type": "execute_result"
    }
   ],
   "source": [
    "confusion_matrix(y_test,y_pred)"
   ]
  },
  {
   "cell_type": "code",
   "execution_count": 154,
   "metadata": {
    "colab": {
     "base_uri": "https://localhost:8080/"
    },
    "id": "hApZxDyGLX22",
    "outputId": "49f5a2b8-d90b-48de-d67b-eafacfd86dd0"
   },
   "outputs": [
    {
     "data": {
      "text/plain": [
       "0.8540865384615385"
      ]
     },
     "execution_count": 154,
     "metadata": {
      "tags": []
     },
     "output_type": "execute_result"
    }
   ],
   "source": [
    "# Not bad ! \n",
    "accuracy_score(y_test,y_pred)"
   ]
  },
  {
   "cell_type": "markdown",
   "metadata": {},
   "source": [
    "## V. Checking for overfitting  !\n",
    "The loss is very low for the training set but higher on the test set. We see a similar performance for the accuracy"
   ]
  },
  {
   "cell_type": "code",
   "execution_count": 155,
   "metadata": {
    "colab": {
     "base_uri": "https://localhost:8080/",
     "height": 281
    },
    "id": "To2gMzR9NQV2",
    "outputId": "696569c8-20c8-4e37-dc94-747bfb30b8ed"
   },
   "outputs": [
    {
     "data": {
      "image/png": "[encoded data removed]",
      "text/plain": [
       "<Figure size 432x288 with 1 Axes>"
      ]
     },
     "metadata": {
      "needs_background": "light",
      "tags": []
     },
     "output_type": "display_data"
    }
   ],
   "source": [
    "# Overfitting\n",
    "\n",
    "plt.title('Loss')\n",
    "plt.plot(hist_1.history['loss'], label='train')\n",
    "plt.plot(hist_1.history['val_loss'], label='test')\n",
    "plt.legend()\n",
    "plt.show();"
   ]
  },
  {
   "cell_type": "code",
   "execution_count": 156,
   "metadata": {
    "colab": {
     "base_uri": "https://localhost:8080/",
     "height": 281
    },
    "id": "eW17stcoO7_5",
    "outputId": "e9a09aac-cab4-47f5-910a-226eb29a4dd6"
   },
   "outputs": [
    {
     "data": {
      "image/png": "[encoded data removed]",
      "text/plain": [
       "<Figure size 432x288 with 1 Axes>"
      ]
     },
     "metadata": {
      "needs_background": "light",
      "tags": []
     },
     "output_type": "display_data"
    }
   ],
   "source": [
    "plt.title('Accuracy')\n",
    "plt.plot(hist_1.history['accuracy'], label='train')\n",
    "plt.plot(hist_1.history['val_accuracy'], label='test')\n",
    "plt.legend()\n",
    "plt.show();"
   ]
  },
  {
   "cell_type": "markdown",
   "metadata": {},
   "source": [
    "### V.A. Correcting for overfitting \n",
    "We increase the dropout rate and add another layer"
   ]
  },
  {
   "cell_type": "code",
   "execution_count": 161,
   "metadata": {
    "colab": {
     "base_uri": "https://localhost:8080/"
    },
    "id": "0nAvYP2mRprL",
    "outputId": "6b55f57f-2213-4bd6-8884-7bb5b8983d92"
   },
   "outputs": [
    {
     "name": "stdout",
     "output_type": "stream",
     "text": [
      "Model: \"sequential_14\"\n",
      "_________________________________________________________________\n",
      "Layer (type)                 Output Shape              Param #   \n",
      "=================================================================\n",
      "embedding_13 (Embedding)     (None, 50, 50)            50000     \n",
      "_________________________________________________________________\n",
      "dropout_28 (Dropout)         (None, 50, 50)            0         \n",
      "_________________________________________________________________\n",
      "lstm_13 (LSTM)               (None, 100)               60400     \n",
      "_________________________________________________________________\n",
      "dropout_29 (Dropout)         (None, 100)               0         \n",
      "_________________________________________________________________\n",
      "dense_29 (Dense)             (None, 448)               45248     \n",
      "_________________________________________________________________\n",
      "dense_31 (Dense)             (None, 1)                 449       \n",
      "=================================================================\n",
      "Total params: 156,097\n",
      "Trainable params: 156,097\n",
      "Non-trainable params: 0\n",
      "_________________________________________________________________\n",
      "None\n"
     ]
    }
   ],
   "source": [
    "embedding_vector_features=50\n",
    "model1=Sequential()\n",
    "model1.add(Embedding(vocab_length, embedding_vector_features, input_length=50))\n",
    "model1.add(Dropout(0.5))\n",
    "model1.add(LSTM(100))\n",
    "model1.add(Dropout(0.5))\n",
    "model1.add(Dense(448,activation='relu'))\n",
    "model.add(Dropout(0.5))\n",
    "model.add(Dense(64,activation='relu'))\n",
    "\n",
    "model1.add(Dense(1,activation='sigmoid'))\n",
    "\n",
    "#Compiling the model\n",
    "model1.compile(loss='binary_crossentropy', optimizer=keras.optimizers.Adam(learning_rate=0.01),metrics=['accuracy'])\n",
    "print(model1.summary())"
   ]
  },
  {
   "cell_type": "code",
   "execution_count": 162,
   "metadata": {
    "colab": {
     "base_uri": "https://localhost:8080/"
    },
    "id": "g6b-PCwXRpxc",
    "outputId": "d9ce1ca4-03a1-43eb-f287-744b9d90258c"
   },
   "outputs": [
    {
     "name": "stdout",
     "output_type": "stream",
     "text": [
      "Epoch 1/10\n",
      "260/260 [==============================] - 4s 9ms/step - loss: 0.5122 - accuracy: 0.7523 - val_loss: 0.3632 - val_accuracy: 0.8430\n",
      "Epoch 2/10\n",
      "260/260 [==============================] - 2s 7ms/step - loss: 0.3518 - accuracy: 0.8479 - val_loss: 0.3377 - val_accuracy: 0.8478\n",
      "Epoch 3/10\n",
      "260/260 [==============================] - 2s 8ms/step - loss: 0.3174 - accuracy: 0.8577 - val_loss: 0.3498 - val_accuracy: 0.8423\n",
      "Epoch 4/10\n",
      "260/260 [==============================] - 2s 7ms/step - loss: 0.2898 - accuracy: 0.8706 - val_loss: 0.3433 - val_accuracy: 0.8562\n",
      "Epoch 5/10\n",
      "260/260 [==============================] - 2s 7ms/step - loss: 0.2816 - accuracy: 0.8768 - val_loss: 0.3495 - val_accuracy: 0.8589\n",
      "Epoch 6/10\n",
      "260/260 [==============================] - 2s 7ms/step - loss: 0.2741 - accuracy: 0.8788 - val_loss: 0.3697 - val_accuracy: 0.8488\n",
      "Epoch 7/10\n",
      "260/260 [==============================] - 2s 7ms/step - loss: 0.2538 - accuracy: 0.8894 - val_loss: 0.3664 - val_accuracy: 0.8529\n",
      "Epoch 8/10\n",
      "260/260 [==============================] - 2s 7ms/step - loss: 0.2508 - accuracy: 0.8917 - val_loss: 0.3572 - val_accuracy: 0.8550\n",
      "Epoch 9/10\n",
      "260/260 [==============================] - 2s 8ms/step - loss: 0.2507 - accuracy: 0.8893 - val_loss: 0.3533 - val_accuracy: 0.8507\n",
      "Epoch 10/10\n",
      "260/260 [==============================] - 2s 8ms/step - loss: 0.2576 - accuracy: 0.8875 - val_loss: 0.3482 - val_accuracy: 0.8510\n"
     ]
    }
   ],
   "source": [
    "# Train test split of the X and y final\n",
    "X_train, X_test, y_train, y_test = train_test_split(X_final, y_final, test_size=0.20, random_state=42)\n",
    "# Fitting with 10 epochs and 64 batch size\n",
    "hist_2 = model1.fit(X_train,y_train,validation_data=(X_test,y_test),epochs=10,batch_size=64)"
   ]
  },
  {
   "cell_type": "code",
   "execution_count": 159,
   "metadata": {
    "colab": {
     "base_uri": "https://localhost:8080/"
    },
    "id": "7X4wFq3zRp2l",
    "outputId": "0011ba1a-21a4-412c-e31f-0a9e3b286586"
   },
   "outputs": [
    {
     "data": {
      "text/plain": [
       "0.8512019230769231"
      ]
     },
     "execution_count": 159,
     "metadata": {
      "tags": []
     },
     "output_type": "execute_result"
    }
   ],
   "source": [
    "y_pred = (model1.predict(X_test) > 0.5).astype(\"int32\")\n",
    "from sklearn.metrics import confusion_matrix\n",
    "confusion_matrix(y_test,y_pred)\n",
    "from sklearn.metrics import accuracy_score\n",
    "accuracy_score(y_test,y_pred)"
   ]
  },
  {
   "cell_type": "markdown",
   "metadata": {},
   "source": [
    "##  V.B. Better results ! \n",
    "#### Great stuff - earlier the difference in loss was by 0.2 points & now it is less that 0.1 point for the final epoch)\n",
    "Correcting for overfitting : increase the dropout rate to 0.5 (Dropout technique works by randomly reducing the number of interconnecting neurons within a neural network). We see that the difference in the loss between the train & test has decreased from before. Same for the accuracy."
   ]
  },
  {
   "cell_type": "code",
   "execution_count": 163,
   "metadata": {
    "colab": {
     "base_uri": "https://localhost:8080/",
     "height": 281
    },
    "id": "yZbX9rcbRp52",
    "outputId": "f70b434e-3864-49dc-97fe-ae0fdbacd73e"
   },
   "outputs": [
    {
     "data": {
      "image/png": "[encoded data removed]",
      "text/plain": [
       "<Figure size 432x288 with 1 Axes>"
      ]
     },
     "metadata": {
      "needs_background": "light",
      "tags": []
     },
     "output_type": "display_data"
    }
   ],
   "source": [
    "plt.title('Loss')\n",
    "plt.plot(hist_2.history['loss'], label='train')\n",
    "plt.plot(hist_2.history['val_loss'], label='test')\n",
    "plt.legend()\n",
    "plt.show();"
   ]
  },
  {
   "cell_type": "code",
   "execution_count": 165,
   "metadata": {
    "colab": {
     "base_uri": "https://localhost:8080/",
     "height": 281
    },
    "id": "FmtdDG43Rp9S",
    "outputId": "bcf48463-fd09-4415-fba5-67d6f26fff33"
   },
   "outputs": [
    {
     "data": {
      "image/png": "[encoded data removed]",
      "text/plain": [
       "<Figure size 432x288 with 1 Axes>"
      ]
     },
     "metadata": {
      "needs_background": "light",
      "tags": []
     },
     "output_type": "display_data"
    }
   ],
   "source": [
    "plt.title('Accuracy')\n",
    "plt.plot(hist_2.history['accuracy'], label='train')\n",
    "plt.plot(hist_2.history['val_accuracy'], label='test')\n",
    "plt.legend()\n",
    "plt.show();"
   ]
  },
  {
   "cell_type": "markdown",
   "metadata": {
    "id": "QhF62XlQS-kX"
   },
   "source": [
    "## VI. Hyper-parameter tuning : Using Keras tuner \n",
    "- Learning rate\n",
    "- Number of units "
   ]
  },
  {
   "cell_type": "code",
   "execution_count": 241,
   "metadata": {
    "id": "qHG9Ct9jmqsD"
   },
   "outputs": [],
   "source": [
    "def model_builder(hp):\n",
    "  model = keras.Sequential()\n",
    "  # model.add(Embedding(vocab_length, embedding_vector_features, input_length=100))\n",
    "\n",
    "  # Tune the number of units in the first Dense layer\n",
    "  # Choose an optimal value between 32-512\n",
    "  hp_units = hp.Int('units', min_value=32, max_value=512, step=32)\n",
    "  model.add(keras.layers.Dense(units=hp_units, activation='relu'))\n",
    "  # Tune the learning rate for the optimizer\n",
    "  # Choose an optimal value from 0.01, 0.001, or 0.0001\n",
    "  hp_learning_rate = hp.Choice('learning_rate', values=[1e-2, 1e-3, 1e-4])\n",
    "\n",
    "  model.compile(optimizer=keras.optimizers.Adam(learning_rate=hp_learning_rate),\n",
    "                loss=keras.losses.SparseCategoricalCrossentropy(),\n",
    "                metrics=['accuracy'])\n",
    "\n",
    "  return model"
   ]
  },
  {
   "cell_type": "code",
   "execution_count": 242,
   "metadata": {
    "colab": {
     "base_uri": "https://localhost:8080/"
    },
    "id": "O7kDaBitwQjf",
    "outputId": "e2dc019f-5380-47a1-f8f5-8bd4e1eecce8"
   },
   "outputs": [
    {
     "name": "stdout",
     "output_type": "stream",
     "text": [
      "INFO:tensorflow:Reloading Oracle from existing project my_dir_1/intro_to_kt/oracle.json\n",
      "INFO:tensorflow:Reloading Tuner from my_dir_1/intro_to_kt/tuner0.json\n"
     ]
    }
   ],
   "source": [
    "tuner = kt.Hyperband(model_builder,\n",
    "                     objective='val_accuracy',\n",
    "                     max_epochs=50,\n",
    "                     factor=3,\n",
    "                     directory='my_dir_1',\n",
    "                     project_name='intro_to_kt')"
   ]
  },
  {
   "cell_type": "code",
   "execution_count": 243,
   "metadata": {
    "id": "0mAhGym9LYD8"
   },
   "outputs": [],
   "source": [
    "stop_early = tf.keras.callbacks.EarlyStopping(monitor='val_loss', patience=5)"
   ]
  },
  {
   "cell_type": "code",
   "execution_count": 244,
   "metadata": {
    "colab": {
     "base_uri": "https://localhost:8080/"
    },
    "id": "yZdstNTey6FW",
    "outputId": "e4b42847-1219-46e4-bebe-e4180affdadb"
   },
   "outputs": [
    {
     "name": "stdout",
     "output_type": "stream",
     "text": [
      "Trial 21 Complete [00h 00m 15s]\n",
      "val_accuracy: 0.07842548191547394\n",
      "\n",
      "Best val_accuracy So Far: 0.579026460647583\n",
      "Total elapsed time: 00h 05m 53s\n",
      "INFO:tensorflow:Oracle triggered exit\n",
      "\n",
      "The hyperparameter search is complete. The optimal number of units in the first densely-connected\n",
      "layer is 192 and the activation is sigmoid & the optimal learning rate for the optimizer\n",
      "is 0.01.\n",
      "\n"
     ]
    }
   ],
   "source": [
    "print(\"You can go for a small coffee break now !\") \n",
    "tuner.search(X_train, y_train, epochs=10, validation_split=0.2, callbacks=[stop_early])\n",
    "\n",
    "# Get the optimal hyperparameters\n",
    "best_hps=tuner.get_best_hyperparameters(num_trials=1)[0]\n",
    "\n",
    "print(f\"\"\"\n",
    "The hyperparameter search is complete. The optimal number of units in the first densely-connected\n",
    "layer is {best_hps.get('units')} and the optimal learning rate for the optimizer\n",
    "is {best_hps.get('learning_rate')}.\n",
    "\"\"\")"
   ]
  },
  {
   "cell_type": "code",
   "execution_count": 232,
   "metadata": {
    "id": "Fs7M2FLBb_xA"
   },
   "outputs": [],
   "source": [
    "## This code would ideally help us also to find the best activation function \n",
    "# but it does not work.  This is the website to the function below. It is basically\n",
    "# a function from the keras tuner package that also allows to check for additional\n",
    "# params but it is not working\n",
    "# https://keras-team.github.io/keras-tuner/documentation/tuners/#randomsearch-class\n",
    "\n",
    "# from kerastuner import HyperModel\n",
    "# class RegressionHyperModel(HyperModel):\n",
    "#     def __init__(self, input_shape):\n",
    "#         self.input_shape = input_shape\n",
    "#     def build(self, hp):\n",
    "#         model = Sequential()\n",
    "#         model.add(\n",
    "#             layers.Dense(\n",
    "#                 units=hp.Int('units', 8, 64, 4, default=8),\n",
    "#                 activation=hp.Choice(\n",
    "#                     'dense_activation',\n",
    "#                     values=['relu', 'tanh', 'sigmoid'],\n",
    "#                     default='relu'),\n",
    "#                 input_shape=input_shape\n",
    "#             )\n",
    "#         )\n",
    "        \n",
    "#         model.add(\n",
    "#             layers.Dense(\n",
    "#                 units=hp.Int('units', 16, 64, 4, default=16),\n",
    "#                 activation=hp.Choice(\n",
    "#                     'dense_activation',\n",
    "#                     values=['relu', 'tanh', 'sigmoid'],\n",
    "#                     default='relu')\n",
    "#             )\n",
    "#         )\n",
    "        \n",
    "#         model.add(\n",
    "#             layers.Dropout(\n",
    "#                 hp.Float(\n",
    "#                     'dropout',\n",
    "#                     min_value=0.0,\n",
    "#                     max_value=0.1,\n",
    "#                     default=0.005,\n",
    "#                     step=0.01)\n",
    "#             )\n",
    "#         )\n",
    "        \n",
    "        \n",
    "#         model.compile(\n",
    "#             optimizer='Adal',loss='mse',metrics=['mse']\n",
    "#         )\n",
    "        \n",
    "#         return model\n",
    "# input_shape = (X_train.shape[1],)\n",
    "# hypermodel = RegressionHyperModel(input_shape)\n",
    "# from kerastuner import HyperModel\n",
    "# tuner_rs = RandomSearch(\n",
    "#             hypermodel,\n",
    "#             objective='mse',\n",
    "#             seed=42,\n",
    "#             max_trials=10,\n",
    "#             executions_per_trial=2)\n"
   ]
  },
  {
   "cell_type": "code",
   "execution_count": 131,
   "metadata": {
    "colab": {
     "base_uri": "https://localhost:8080/"
    },
    "id": "aP-tX2aKGwJI",
    "outputId": "16d29c26-bd5f-4b5e-cadb-dd299cb690f7"
   },
   "outputs": [
    {
     "name": "stdout",
     "output_type": "stream",
     "text": [
      "Model: \"sequential_8\"\n",
      "_________________________________________________________________\n",
      "Layer (type)                 Output Shape              Param #   \n",
      "=================================================================\n",
      "embedding_7 (Embedding)      (None, 50, 50)            50000     \n",
      "_________________________________________________________________\n",
      "dropout_14 (Dropout)         (None, 50, 50)            0         \n",
      "_________________________________________________________________\n",
      "bidirectional_5 (Bidirection (None, 200)               120800    \n",
      "_________________________________________________________________\n",
      "dropout_15 (Dropout)         (None, 200)               0         \n",
      "_________________________________________________________________\n",
      "dense_15 (Dense)             (None, 448)               90048     \n",
      "_________________________________________________________________\n",
      "dense_16 (Dense)             (None, 1)                 449       \n",
      "=================================================================\n",
      "Total params: 261,297\n",
      "Trainable params: 261,297\n",
      "Non-trainable params: 0\n",
      "_________________________________________________________________\n",
      "None\n"
     ]
    }
   ],
   "source": [
    "#Creating the lstm model\n",
    "embedding_vector_features=50\n",
    "model2=Sequential()\n",
    "model2.add(Embedding(vocab_length, embedding_vector_features, input_length=50))\n",
    "model2.add(Dropout(0.5))\n",
    "model2.add(LSTM(100))\n",
    "model2.add(Dropout(0.5))\n",
    "model2.add(Dense(448,activation='relu'))\n",
    "model2.add(Dropout(0.5))\n",
    "model2.add(Dense(448,activation='relu'))\n",
    "\n",
    "model2.add(Dense(1,activation='sigmoid'))\n",
    "\n",
    "#Compiling the model\n",
    "model1.compile(loss='binary_crossentropy', optimizer=keras.optimizers.Adam(learning_rate=0.01),metrics=['accuracy'])\n",
    "print(model1.summary())"
   ]
  },
  {
   "cell_type": "code",
   "execution_count": 132,
   "metadata": {
    "colab": {
     "base_uri": "https://localhost:8080/"
    },
    "id": "kxz9o4b3JmS_",
    "outputId": "4306f5c8-72dd-4d35-ecec-dc7bd96475e6"
   },
   "outputs": [
    {
     "name": "stdout",
     "output_type": "stream",
     "text": [
      "Epoch 1/10\n",
      "260/260 [==============================] - 6s 16ms/step - loss: 0.4945 - accuracy: 0.7529 - val_loss: 0.3564 - val_accuracy: 0.8387\n",
      "Epoch 2/10\n",
      "260/260 [==============================] - 3s 10ms/step - loss: 0.3227 - accuracy: 0.8605 - val_loss: 0.3263 - val_accuracy: 0.8548\n",
      "Epoch 3/10\n",
      "260/260 [==============================] - 3s 11ms/step - loss: 0.2652 - accuracy: 0.8842 - val_loss: 0.3394 - val_accuracy: 0.8531\n",
      "Epoch 4/10\n",
      "260/260 [==============================] - 3s 11ms/step - loss: 0.2263 - accuracy: 0.9040 - val_loss: 0.3420 - val_accuracy: 0.8502\n",
      "Epoch 5/10\n",
      "260/260 [==============================] - 3s 12ms/step - loss: 0.1932 - accuracy: 0.9221 - val_loss: 0.3762 - val_accuracy: 0.8322\n",
      "Epoch 6/10\n",
      "260/260 [==============================] - 3s 11ms/step - loss: 0.1785 - accuracy: 0.9255 - val_loss: 0.3963 - val_accuracy: 0.8445\n",
      "Epoch 7/10\n",
      "260/260 [==============================] - 3s 11ms/step - loss: 0.1460 - accuracy: 0.9417 - val_loss: 0.4402 - val_accuracy: 0.8459\n",
      "Epoch 8/10\n",
      "260/260 [==============================] - 3s 11ms/step - loss: 0.1393 - accuracy: 0.9433 - val_loss: 0.4357 - val_accuracy: 0.8531\n",
      "Epoch 9/10\n",
      "260/260 [==============================] - 3s 12ms/step - loss: 0.1303 - accuracy: 0.9466 - val_loss: 0.4706 - val_accuracy: 0.8423\n",
      "Epoch 10/10\n",
      "260/260 [==============================] - 3s 11ms/step - loss: 0.1274 - accuracy: 0.9479 - val_loss: 0.4768 - val_accuracy: 0.8411\n"
     ]
    }
   ],
   "source": [
    "# Train test split of the X and y final\n",
    "# X_train, X_test, y_train, y_test = train_test_split(X_final, y_final, test_size=0.20, random_state=42)\n",
    "# Fitting with 10 epochs and 64 batch size\n",
    "hist_3 = model1.fit(X_train,y_train,validation_data=(X_test,y_test),epochs=10,batch_size=64)"
   ]
  },
  {
   "cell_type": "code",
   "execution_count": 133,
   "metadata": {
    "colab": {
     "base_uri": "https://localhost:8080/"
    },
    "id": "I7bgVhxfKLUt",
    "outputId": "d46d94e9-e33a-40ec-e5d2-b2ba9ea2da7b"
   },
   "outputs": [
    {
     "data": {
      "text/plain": [
       "0.8411057692307692"
      ]
     },
     "execution_count": 133,
     "metadata": {
      "tags": []
     },
     "output_type": "execute_result"
    }
   ],
   "source": [
    "y_pred = (model1.predict(X_test) > 0.5).astype(\"int32\")\n",
    "from sklearn.metrics import confusion_matrix\n",
    "confusion_matrix(y_test,y_pred)\n",
    "from sklearn.metrics import accuracy_score\n",
    "accuracy_score(y_test,y_pred)"
   ]
  },
  {
   "cell_type": "code",
   "execution_count": 134,
   "metadata": {
    "colab": {
     "base_uri": "https://localhost:8080/",
     "height": 281
    },
    "id": "3BuRtrS6ODst",
    "outputId": "43295932-abe9-4b2f-b38e-ec05725fc285"
   },
   "outputs": [
    {
     "data": {
      "image/png": "[encoded data removed]",
      "text/plain": [
       "<Figure size 432x288 with 1 Axes>"
      ]
     },
     "metadata": {
      "needs_background": "light",
      "tags": []
     },
     "output_type": "display_data"
    }
   ],
   "source": [
    "plt.title('Loss')\n",
    "plt.plot(hist_3.history['loss'], label='train')\n",
    "plt.plot(hist_3.history['val_loss'], label='test')\n",
    "plt.legend()\n",
    "plt.show();"
   ]
  },
  {
   "cell_type": "markdown",
   "metadata": {},
   "source": [
    "The second model thus gives the best fit. Although the accuracy is more or less the same across the models (it also depends on the train-test split) we prefer a model that does not underfit as much. As I ran a gridsearch for the best params, we overfit **A LOT** again as we see the loss curves are literally diverging.\n",
    "Limits : \n",
    "- I could have tried to correct further why after the gridsearch we see so much overfitting but did not have time\n",
    "- Check for other word embedding mechanisms - Word2Vec or even other pretrained embeddings, but was short on time."
   ]
  },
  {
   "cell_type": "markdown",
   "metadata": {
    "id": "pQ6wPANx8G4d"
   },
   "source": [
    "# You have reached the end of this notebook !"
   ]
  }
 ],
 "metadata": {
  "accelerator": "GPU",
  "colab": {
   "collapsed_sections": [],
   "name": "Modelling_with_Tensorflow_Colab",
   "provenance": []
  },
  "kernelspec": {
   "display_name": "Python 3",
   "language": "python",
   "name": "python3"
  },
  "language_info": {
   "codemirror_mode": {
    "name": "ipython",
    "version": 3
   },
   "file_extension": ".py",
   "mimetype": "text/x-python",
   "name": "python",
   "nbconvert_exporter": "python",
   "pygments_lexer": "ipython3",
   "version": "3.7.4"
  }
 },
 "nbformat": 4,
 "nbformat_minor": 1
}
